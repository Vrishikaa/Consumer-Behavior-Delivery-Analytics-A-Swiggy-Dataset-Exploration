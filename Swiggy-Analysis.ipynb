{
  "cells": [
    {
      "cell_type": "code",
      "metadata": {},
      "source": [
        "#core libraries\n",
        "\n",
        "import numpy as np \n",
        "import pandas as pd\n",
        "\n",
        "#visualization libraries\n",
        "\n",
        "import matplotlib.pyplot as plt\n",
        "import seaborn as sns \n"
      ],
      "outputs": [],
      "execution_count": null
    },
    {
      "cell_type": "code",
      "metadata": {},
      "source": [
        "#load dataset\n",
        "\n",
        "df= pd.read_csv(r\"C:\\Users\\Vrishikaa\\Downloads\\archive (2)\\swiggy.csv\")\n",
        "df.head(2)\n"
      ],
      "outputs": [],
      "execution_count": null
    },
    {
      "cell_type": "code",
      "metadata": {},
      "source": [
        "# to remove duplicates \n",
        "\n",
        "df.duplicated().sum()\n",
        "df.drop_duplicates(inplace=True)\n"
      ],
      "outputs": [],
      "execution_count": null
    },
    {
      "cell_type": "code",
      "metadata": {},
      "source": [
        "#drop duplicates from the column \n",
        "\n",
        "df = df.drop_duplicates()\n"
      ],
      "outputs": [],
      "execution_count": null
    },
    {
      "cell_type": "code",
      "metadata": {},
      "source": [
        "#to check if duplicates are droped or not \n",
        "\n",
        "df.head(2)\n"
      ],
      "outputs": [],
      "execution_count": null
    },
    {
      "cell_type": "code",
      "metadata": {},
      "source": [
        "#need to get the number of rows and columns\n",
        "\n",
        "df.shape\n"
      ],
      "outputs": [],
      "execution_count": null
    },
    {
      "cell_type": "code",
      "metadata": {},
      "source": [
        "(8680, 10)"
      ],
      "outputs": [],
      "execution_count": null
    },
    {
      "cell_type": "code",
      "metadata": {},
      "source": [
        "#information from the data-set \n",
        "\n",
        "df.info()\n"
      ],
      "outputs": [],
      "execution_count": null
    },
    {
      "cell_type": "code",
      "metadata": {},
      "source": [
        "<class 'pandas.core.frame.DataFrame'>\n",
        "RangeIndex: 8680 entries, 0 to 8679\n",
        "Data columns (total 10 columns):\n",
        " #   Column         Non-Null Count  Dtype  \n",
        "---  ------         --------------  -----  \n",
        " 0   ID             8680 non-null   int64  \n",
        " 1   Area           8680 non-null   object \n",
        " 2   City           8680 non-null   object \n",
        " 3   Restaurant     8680 non-null   object \n",
        " 4   Price          8680 non-null   float64\n",
        " 5   Avg ratings    8680 non-null   float64\n",
        " 6   Total ratings  8680 non-null   int64  \n",
        " 7   Food type      8680 non-null   object \n",
        " 8   Address        8680 non-null   object \n",
        " 9   Delivery time  8680 non-null   int64  \n",
        "dtypes: float64(2), int64(3), object(5)\n",
        "memory usage: 678.3+ KB\n"
      ],
      "outputs": [],
      "execution_count": null
    },
    {
      "cell_type": "code",
      "metadata": {},
      "source": [
        "#to get the idea of all columns by mathematical insights\n",
        "\n",
        "df.describe()\n"
      ],
      "outputs": [],
      "execution_count": null
    },
    {
      "cell_type": "code",
      "metadata": {},
      "source": [
        "#to find the missing values\n",
        "\n",
        "df.isnull().sum()\n"
      ],
      "outputs": [],
      "execution_count": null
    },
    {
      "cell_type": "code",
      "metadata": {},
      "source": [
        "ID               0\n",
        "Area             0\n",
        "City             0\n",
        "Restaurant       0\n",
        "Price            0\n",
        "Avg ratings      0\n",
        "Total ratings    0\n",
        "Food type        0\n",
        "Address          0\n",
        "Delivery time    0\n",
        "dtype: int64"
      ],
      "outputs": [],
      "execution_count": null
    },
    {
      "cell_type": "code",
      "metadata": {},
      "source": [
        "#drop column \n",
        "\n",
        "df.drop('Address',axis=1,inplace=True)\n"
      ],
      "outputs": [],
      "execution_count": null
    },
    {
      "cell_type": "code",
      "metadata": {},
      "source": [
        "df.head(1)\n"
      ],
      "outputs": [],
      "execution_count": null
    },
    {
      "cell_type": "code",
      "metadata": {},
      "source": [
        "df.set_index(['City'],inplace=True)\n",
        "df\n"
      ],
      "outputs": [],
      "execution_count": null
    },
    {
      "cell_type": "code",
      "metadata": {},
      "source": [
        "print(df.columns.tolist())\n"
      ],
      "outputs": [],
      "execution_count": null
    },
    {
      "cell_type": "code",
      "metadata": {},
      "source": [
        "['ID', 'Area', 'Restaurant', 'Price', 'Avg ratings', 'Total ratings', 'Food type', 'Delivery time']\n"
      ],
      "outputs": [],
      "execution_count": null
    },
    {
      "cell_type": "code",
      "metadata": {},
      "source": [
        "df\n"
      ],
      "outputs": [],
      "execution_count": null
    },
    {
      "cell_type": "code",
      "metadata": {},
      "source": [
        "# Create a correlation matrix of all numeric columns in the DataFrame\n",
        "# numeric_only=True ensures only numbers are used (ignores text columns)\n",
        "\n",
        "# Plot the heatmap using seaborn\n",
        "# annot=True -> shows the correlation values inside each cell\n",
        "\n",
        "# cmap='coolwarm' -> sets the color scheme (blue = negative, red = positive)\n",
        "\n",
        "sns.heatmap(df.corr(numeric_only=True), annot=True, cmap='coolwarm')\n",
        "plt.title(\"Correlation Heatmap\")\n",
        "plt.show()\n"
      ],
      "outputs": [],
      "execution_count": null
    },
    {
      "cell_type": "code",
      "metadata": {},
      "source": [
        "#we need to form the group with city and with the view of all columns both numeric and non-numeric \n",
        "City_df = df.groupby(['City', 'Area']).agg({\n",
        "    'Price': 'mean',\n",
        "    'Avg ratings': 'mean',\n",
        "    'Total ratings': 'mean',\n",
        "    'Delivery time': 'mean',\n",
        "    'Restaurant': lambda x: ', '.join(map(str, x.unique()[:3])),  # ensure string\n",
        "    'Food type': lambda x: ', '.join(map(str, x.unique()[:3]))\n",
        "}).reset_index().round(2)\n",
        "\n",
        "print(City_df.head())\n"
      ],
      "outputs": [],
      "execution_count": null
    },
    {
      "cell_type": "code",
      "metadata": {},
      "source": [
        "        City                  Area   Price  Avg ratings  Total ratings  \\\n",
        "0  Ahmedabad   Akhbar Nagar Circle  200.00         2.90          80.00   \n",
        "1  Ahmedabad                 Acher  200.00         3.70         100.00   \n",
        "2  Ahmedabad             Ahmedabad  344.44         4.07         124.44   \n",
        "3  Ahmedabad              Ambavadi  200.00         4.40          20.00   \n",
        "4  Ahmedabad              Ambawadi  302.00         3.72          61.60   \n",
        "\n",
        "   Delivery time                                         Restaurant  \\\n",
        "0          53.00                              Shiv Shakti Fast Food   \n",
        "1          70.00                                Punjabi Food On Way   \n",
        "2          43.22  Prithvi Hotel, Fish Express, Grill N Rice Rest...   \n",
        "3          39.00                                        Mk Sandwich   \n",
        "4          38.56  Harshu'S Late Night Munchies, Umami By Curries...   \n",
        "\n",
        "                                           Food type  \n",
        "0                                 Gujarati,Fast Food  \n",
        "1                 North Indian,Chinese,Punjabi,Combo  \n",
        "2  Indian,Chinese,Continental, Indian,Tandoor,Sea...  \n",
        "3                         Chinese,American,Beverages  \n",
        "4  Fast Food,Italian,Chinese,Snacks, Indian,Chine...  \n"
      ],
      "outputs": [],
      "execution_count": null
    },
    {
      "cell_type": "code",
      "metadata": {},
      "source": [
        "#to reset index asper the group of city \n",
        "\n",
        "City_df = City_df.reset_index()\n"
      ],
      "outputs": [],
      "execution_count": null
    },
    {
      "cell_type": "code",
      "metadata": {},
      "source": [
        "City_df \n"
      ],
      "outputs": [],
      "execution_count": null
    },
    {
      "cell_type": "code",
      "metadata": {},
      "source": [
        "#to see the City_df to check the groupby fuction given \n",
        "\n",
        "City_df\n",
        "City_df.shape\n"
      ],
      "outputs": [],
      "execution_count": null
    },
    {
      "cell_type": "code",
      "metadata": {},
      "source": [
        "(843, 9)"
      ],
      "outputs": [],
      "execution_count": null
    },
    {
      "cell_type": "code",
      "metadata": {},
      "source": [
        "#to identify the top performing area per city\n",
        "# Sort the dataset by 'City' first and then 'Avg ratings'\n",
        "# - Sorting by 'City' keeps all areas of the same city together.\n",
        "# - Sorting by 'Avg ratings' in descending order (False) ensures that\n",
        "#   the top-rated areas appear first within each city.\n",
        "\n",
        "City_df.sort_values(['City','Avg ratings'],ascending=[True,False])\n"
      ],
      "outputs": [],
      "execution_count": null
    },
    {
      "cell_type": "code",
      "metadata": {},
      "source": [
        "# \ud83d\udccc Step 1: Sort the dataset by 'City' first and then 'Avg ratings'\n",
        "# - Sorting by 'City' keeps all areas of the same city together.\n",
        "# - Sorting by 'Avg ratings' in descending order (False) ensures that\n",
        "#   the top-rated areas appear first within each city.\n",
        "\n",
        "City_sorted = City_df.sort_values(['City','Avg ratings'], \n",
        "                                  ascending=[True, False])\n",
        "\n",
        "# Display the sorted table\n",
        "City_sorted.head(10)\n"
      ],
      "outputs": [],
      "execution_count": null
    },
    {
      "cell_type": "code",
      "metadata": {},
      "source": [
        "# \ud83d\udccc Step 2: Extract the *Top Performing Area* for each City\n",
        "# - After sorting, the top row for each city will represent\n",
        "#   the area with the highest average rating.\n",
        "# - groupby('City').head(1) picks the first row per city group.\n",
        "\n",
        "top_area_per_city = City_sorted.groupby('City').head(1).reset_index()\n",
        "\n",
        "# Display results\n",
        "top_area_per_city\n"
      ],
      "outputs": [],
      "execution_count": null
    },
    {
      "cell_type": "code",
      "metadata": {},
      "source": [
        "# \ud83d\udcca Step 3: Visualize the Top Performing Area per City\n",
        "\n",
        "plt.figure(figsize=(8,5))\n",
        "\n",
        "# Plot bar chart of top areas' average ratings\n",
        "\n",
        "plt.bar(top_area_per_city['City'], top_area_per_city['Avg ratings'], \n",
        "        color='skyblue', edgecolor='black')\n",
        "\n",
        "# Add labels and title\n",
        "\n",
        "plt.title(\"Top Performing Area per City (Based on Avg Ratings)\")\n",
        "plt.xlabel(\"City\")\n",
        "plt.ylabel(\"Average Rating\")\n",
        "plt.xticks(rotation=45, ha='right')\n",
        "\n",
        "# Annotate bars with exact rating values\n",
        "\n",
        "for i, val in enumerate(top_area_per_city['Avg ratings']):\n",
        "    plt.text(i, val + 0.02, str(val), ha='center', fontsize=9)\n",
        "\n",
        "plt.tight_layout()\n",
        "plt.show()\n"
      ],
      "outputs": [],
      "execution_count": null
    },
    {
      "cell_type": "code",
      "metadata": {},
      "source": [
        "# Group the dataset by 'City'\n",
        "# Then calculate summary statistics for each city\n",
        "\n",
        "city_group = df.groupby('City').agg({\n",
        "    'Price': 'mean',           # Average price of items in each city\n",
        "    'Avg ratings': 'mean',     # Average customer rating in each city\n",
        "    'Total ratings': 'sum',    # Total number of ratings given in each city\n",
        "    'Delivery time': 'mean'    # Average delivery time in each city\n",
        "}).round(2)                    # Round the results to 2 decimal places for readability\n",
        "\n",
        "# Print the grouped summary DataFrame\n",
        "\n",
        "print(city_group)\n"
      ],
      "outputs": [],
      "execution_count": null
    },
    {
      "cell_type": "code",
      "metadata": {},
      "source": [
        "            Price  Avg ratings  Total ratings  Delivery time\n",
        "City                                                        \n",
        "Ahmedabad  318.13         3.60          74470          44.71\n",
        "Bangalore  382.52         3.76         140500          50.53\n",
        "Chennai    356.25         3.78         178860          58.97\n",
        "Delhi      333.30         3.53          81420          50.73\n",
        "Hyderabad  299.93         3.70         330270          49.93\n",
        "Kolkata    362.29         3.70         219800          67.81\n",
        "Mumbai     393.79         3.60         150960          48.32\n",
        "Pune       353.76         3.55         122990          55.85\n",
        "Surat      270.17         3.58          60320          48.48\n"
      ],
      "outputs": [],
      "execution_count": null
    },
    {
      "cell_type": "code",
      "metadata": {},
      "source": [
        "# Group the dataset by 'City'\n",
        "# and count the number of UNIQUE restaurants in each city\n",
        "\n",
        "city_restaurants = df.groupby('City')['Restaurant'].nunique().reset_index()\n",
        "\n",
        "# Rename the columns for better readability\n",
        "\n",
        "city_restaurants.columns = ['City', 'Unique Restaurants']\n",
        "\n",
        "# Print the result\n",
        "\n",
        "print(city_restaurants)\n"
      ],
      "outputs": [],
      "execution_count": null
    },
    {
      "cell_type": "code",
      "metadata": {},
      "source": [
        "        City  Unique Restaurants\n",
        "0  Ahmedabad                 709\n",
        "1  Bangalore                 938\n",
        "2    Chennai                1096\n",
        "3      Delhi                 611\n",
        "4  Hyderabad                1030\n",
        "5    Kolkata                1325\n",
        "6     Mumbai                1253\n",
        "7       Pune                1080\n",
        "8      Surat                 505\n"
      ],
      "outputs": [],
      "execution_count": null
    },
    {
      "cell_type": "code",
      "metadata": {},
      "source": [
        "# Group the dataset by 'City'\n",
        "# and count the number of UNIQUE restaurants in each city\n",
        "\n",
        "city_restaurants = df.groupby('City')['Restaurant'].nunique().reset_index()\n",
        "\n",
        "# Rename the columns for better readability\n",
        "\n",
        "city_restaurants.columns = ['City', 'Unique Restaurants']\n",
        "\n",
        "# Print the result\n",
        "\n",
        "print(city_restaurants)\n",
        "\n",
        "# ---- Visualization ----\n",
        "\n",
        "plt.figure(figsize=(7,5))\n",
        "plt.bar(city_restaurants['City'], city_restaurants['Unique Restaurants'], color='coral', edgecolor='black')\n",
        "\n",
        "plt.title(\"Unique Restaurants by City\")\n",
        "plt.xlabel(\"City\")\n",
        "plt.ylabel(\"Number of Unique Restaurants\")\n",
        "plt.xticks(rotation=45, ha='right')\n",
        "plt.grid(axis='y', linestyle='--', alpha=0.7)\n",
        "plt.tight_layout()\n",
        "plt.show()\n"
      ],
      "outputs": [],
      "execution_count": null
    },
    {
      "cell_type": "code",
      "metadata": {},
      "source": [
        "        City  Unique Restaurants\n",
        "0  Ahmedabad                 709\n",
        "1  Bangalore                 938\n",
        "2    Chennai                1096\n",
        "3      Delhi                 611\n",
        "4  Hyderabad                1030\n",
        "5    Kolkata                1325\n",
        "6     Mumbai                1253\n",
        "7       Pune                1080\n",
        "8      Surat                 505\n"
      ],
      "outputs": [],
      "execution_count": null
    },
    {
      "cell_type": "code",
      "metadata": {},
      "source": [
        "# Group the dataset by 'City' and look at the 'Food type' column\n",
        "# For each city, count how many times each cuisine appears\n",
        "# Then take the top 3 most common cuisines using .head(3)\n",
        "\n",
        "city_food = df.groupby('City')['Food type'].apply(lambda x: x.value_counts().head(3))\n",
        "\n",
        "# Print the result\n",
        "\n",
        "print(city_food)\n"
      ],
      "outputs": [],
      "execution_count": null
    },
    {
      "cell_type": "code",
      "metadata": {},
      "source": [
        "City                   \n",
        "Ahmedabad  Indian          53\n",
        "           North Indian    30\n",
        "           Fast Food       26\n",
        "Bangalore  South Indian    32\n",
        "           Indian          27\n",
        "           North Indian    25\n",
        "Chennai    Indian          56\n",
        "           South Indian    49\n",
        "           Fast Food       26\n",
        "Delhi      North Indian    47\n",
        "           Indian          27\n",
        "           Chinese         17\n",
        "Hyderabad  South Indian    76\n",
        "           Indian          38\n",
        "           Chinese         31\n",
        "Kolkata    Indian          66\n",
        "           Chinese         52\n",
        "           Fast Food       28\n",
        "Mumbai     Chinese         64\n",
        "           Indian          55\n",
        "           Fast Food       32\n",
        "Pune       Chinese         48\n",
        "           Indian          47\n",
        "           Fast Food       46\n",
        "Surat      Fast Food       40\n",
        "           Indian          20\n",
        "           North Indian    18\n",
        "Name: Food type, dtype: int64\n"
      ],
      "outputs": [],
      "execution_count": null
    },
    {
      "cell_type": "code",
      "metadata": {},
      "source": [
        "# Group the dataset by 'City'\n",
        "# Then select the 'Avg ratings' column\n",
        "# Calculate the mean rating for each city\n",
        "# Sort the results in ascending order (lowest rating city first)\n",
        "# Finally, plot the results as a bar chart\n",
        "\n",
        "df.groupby('City')['Avg ratings'].mean().sort_values().plot(\n",
        "    kind='bar',\n",
        "    title='Mean of Customer Ratings per City',\n",
        "    figsize=(5,4),\n",
        "    color='skyblue',\n",
        "    edgecolor='black'\n",
        ")\n",
        "plt.xlabel('City')\n",
        "plt.ylabel('Average Rating')\n",
        "plt.xticks(rotation=45, ha='right')\n",
        "plt.grid(axis='y', linestyle='--', alpha=0.7)\n",
        "plt.tight_layout()\n",
        "plt.show()\n"
      ],
      "outputs": [],
      "execution_count": null
    },
    {
      "cell_type": "code",
      "metadata": {},
      "source": [
        "#to get the highest-rated area in each city\n",
        "\n",
        "top_areas = City_df.groupby('City').head(1).reset_index()\n",
        "top_areas\n"
      ],
      "outputs": [],
      "execution_count": null
    },
    {
      "cell_type": "code",
      "metadata": {},
      "source": [
        "#to visualse the histogram with price\n",
        "\n",
        "sns.histplot(df['Price'], bins=30, kde=True)\n",
        "plt.title(\"Price Distribution\")\n",
        "plt.show()\n"
      ],
      "outputs": [],
      "execution_count": null
    },
    {
      "cell_type": "code",
      "metadata": {},
      "source": [
        "# Count how many times each restaurant appears in the dataset\n",
        "# This helps identify the most frequently listed or ordered restaurants\n",
        "\n",
        "df['Restaurant'].value_counts().head(10).plot(kind='bar')\n",
        "\n",
        "# Set the title of the chart to describe what it shows\n",
        "\n",
        "plt.title(\"Top 10 Restaurants by Count\")\n",
        "\n",
        "# Display the bar chart\n",
        "\n",
        "plt.show()\n"
      ],
      "outputs": [],
      "execution_count": null
    },
    {
      "cell_type": "code",
      "metadata": {},
      "source": [
        "# Create a boxplot to visualize the distribution of average ratings across cities\n",
        "# This helps identify median ratings, variability, and outliers for each city\n",
        "\n",
        "sns.boxplot(x='City', y='Avg ratings', data=df)\n",
        "\n",
        "# Add a title to describe the chart\n",
        "\n",
        "plt.title(\"Ratings Distribution by City\")\n",
        "\n",
        "# Rotate x-axis labels for better readability\n",
        "\n",
        "plt.xticks(rotation=45)\n",
        "\n",
        "# Display the plot\n",
        "\n",
        "plt.show()\n"
      ],
      "outputs": [],
      "execution_count": null
    },
    {
      "cell_type": "code",
      "metadata": {},
      "source": [
        "# Group the dataset by 'City' and calculate the average delivery time\n",
        "\n",
        "city_delivery = df.groupby('City')['Delivery time'].mean().sort_values()\n",
        "\n",
        "# Plot the results as a line chart\n",
        "\n",
        "city_delivery.plot(\n",
        "    kind='line',\n",
        "    marker='o',                  # Adds markers to each data point\n",
        "    color='teal',\n",
        "    linewidth=2,\n",
        "    figsize=(6, 4),\n",
        "    title='Average Delivery Time by City'\n",
        ")\n",
        "\n",
        "# Add axis labels and styling\n",
        "\n",
        "plt.xlabel('City')\n",
        "plt.ylabel('Average Delivery Time (minutes)')\n",
        "plt.xticks(rotation=45, ha='right')\n",
        "plt.grid(axis='y', linestyle='--', alpha=0.7)\n",
        "plt.tight_layout()\n",
        "plt.show()\n"
      ],
      "outputs": [],
      "execution_count": null
    }
  ],
  "metadata": {
    "kernelspec": {
      "display_name": "Python 3",
      "language": "python",
      "name": "python3"
    },
    "language_info": {
      "name": "python",
      "version": "3.x"
    }
  },
  "nbformat": 4,
  "nbformat_minor": 5
}